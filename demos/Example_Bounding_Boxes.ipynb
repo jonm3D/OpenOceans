{
 "cells": [
  {
   "cell_type": "markdown",
   "metadata": {},
   "source": [
    "# OpenOceans Bounding Box Examples\n",
    "Demonstrating how OpenOceans' robust bounding box objects can be created, edited, and saved in either a programmatic or interactive way.\n",
    "\n",
    "Last updated 8/9/22 by:<br />\n",
    "__Jonathan Markel__<br />\n",
    "Graduate Research Assistant<br />\n",
    "3D Geospatial Laboratory<br />\n",
    "The University of Texas at Austin<br />"
   ]
  },
  {
   "cell_type": "code",
   "execution_count": null,
   "metadata": {},
   "outputs": [],
   "source": [
    "# adding the open oceans folder to the import path\n",
    "import sys\n",
    "sys.path.append('..')\n",
    "\n",
    "# import the bounding box module from open oceans\n",
    "import openoceans as oo"
   ]
  },
  {
   "cell_type": "markdown",
   "metadata": {},
   "source": [
    "## Creating Areas of Interest "
   ]
  },
  {
   "cell_type": "markdown",
   "metadata": {},
   "source": [
    "Users can easily create bounding boxes (or polygons) directly in a notebook. Use the Rectangle and Polygon buttons at left to draw an area of interest. Use the Trash tool to ensure that only 1 region is drawn before continuing."
   ]
  },
  {
   "cell_type": "markdown",
   "metadata": {},
   "source": [
    ">Note: you may get a notice that the code is downloading a basemap from a 3rd party website. This is to access the ESRI imagery basemap, which better shows coastal and inland water areas."
   ]
  },
  {
   "cell_type": "code",
   "execution_count": null,
   "metadata": {},
   "outputs": [],
   "source": [
    "user_aoi = oo.GeoAOI.from_drawing()"
   ]
  },
  {
   "cell_type": "markdown",
   "metadata": {},
   "source": [
    "Of course, bounding boxes (or polygons) can also be imported from GeoJSON files or from a list of longitude and latitude coordinates."
   ]
  },
  {
   "cell_type": "code",
   "execution_count": null,
   "metadata": {},
   "outputs": [],
   "source": [
    "fl_keys = oo.GeoAOI.from_geojson('io/fl_keys_example.geojson')\n",
    "\n",
    "lon = [-123.134765625, -122.0745849609375, -121.278076171875, -123.134765625]\n",
    "lat = [38.16047628099622, 36.80928470205937, 38.13023573104302, 38.16047628099622]\n",
    "\n",
    "bay_area = oo.GeoAOI.from_points(lon, lat)"
   ]
  },
  {
   "cell_type": "markdown",
   "metadata": {},
   "source": [
    "\n",
    "The bounding boxes in open oceans are effectively just organizing shapely/geopandas data, so naturally you can also create a bounding box directly from a shapely polygon."
   ]
  },
  {
   "cell_type": "code",
   "execution_count": null,
   "metadata": {},
   "outputs": [],
   "source": [
    "from shapely.geometry import Polygon\n",
    "\n",
    "poly = Polygon([\n",
    "            (-1.30325317,\n",
    "              44.5204995),\n",
    "            (-1.188583374,\n",
    "              44.5204995),\n",
    "            (-1.188583374,\n",
    "               44.6691412),\n",
    "            (-1.30325317,\n",
    "              44.6691412)])\n",
    "\n",
    "dune = oo.GeoAOI(poly)"
   ]
  },
  {
   "cell_type": "markdown",
   "metadata": {},
   "source": [
    "## Exploring and Modifying Bounds"
   ]
  },
  {
   "cell_type": "markdown",
   "metadata": {},
   "source": [
    "You can also use the built-in explore() method for geopandas dataframes to visualize the bounding polygon."
   ]
  },
  {
   "cell_type": "code",
   "execution_count": null,
   "metadata": {},
   "outputs": [],
   "source": [
    "fl_keys.explore()"
   ]
  },
  {
   "cell_type": "markdown",
   "metadata": {},
   "source": [
    "Try editing one of the bounding boxes by running the code below and using the edit tool. Be sure to click Save when done!"
   ]
  },
  {
   "cell_type": "code",
   "execution_count": null,
   "metadata": {},
   "outputs": [],
   "source": [
    "bay_area.edit()\n",
    "# user_aoi.edit()\n",
    "\n",
    "# dune.edit()\n",
    "# fl_keys.edit()"
   ]
  },
  {
   "cell_type": "code",
   "execution_count": null,
   "metadata": {},
   "outputs": [],
   "source": [
    "# show the updated coordinates (compare this to the original)\n",
    "print(bay_area.poly)\n",
    "bay_area.explore()\n"
   ]
  },
  {
   "cell_type": "markdown",
   "metadata": {},
   "source": [
    "## Exporting Bounding Boxes\n",
    "The Bbox tool also allows you to easily export your bounds as a KML or GeoJSON file."
   ]
  },
  {
   "cell_type": "code",
   "execution_count": null,
   "metadata": {},
   "outputs": [],
   "source": [
    "print(dune.poly)\n",
    "\n",
    "dune.to_kml('io/dune_du_pilat.kml')"
   ]
  },
  {
   "cell_type": "code",
   "execution_count": null,
   "metadata": {},
   "outputs": [],
   "source": [
    "dune.to_geojson() \n",
    "\n",
    "# pass this function a path/name to save to file instead\n",
    "# dune.to_geojson('dune_du_pilat.geojson')"
   ]
  }
 ],
 "metadata": {
  "kernelspec": {
   "display_name": "Python 3.10.5 ('openoceans')",
   "language": "python",
   "name": "python3"
  },
  "language_info": {
   "codemirror_mode": {
    "name": "ipython",
    "version": 3
   },
   "file_extension": ".py",
   "mimetype": "text/x-python",
   "name": "python",
   "nbconvert_exporter": "python",
   "pygments_lexer": "ipython3",
   "version": "3.10.5"
  },
  "orig_nbformat": 4,
  "vscode": {
   "interpreter": {
    "hash": "86116b4d0cd0192920fa3f0c8f115a0dd281510109b0d1c587f5e9f57b1914c1"
   }
  }
 },
 "nbformat": 4,
 "nbformat_minor": 2
}
