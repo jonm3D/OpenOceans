{
 "cells": [
  {
   "cell_type": "markdown",
   "metadata": {},
   "source": [
    "# Histogram Model Demonstration"
   ]
  },
  {
   "cell_type": "markdown",
   "metadata": {},
   "source": []
  }
 ],
 "metadata": {
  "kernelspec": {
   "display_name": "Python 3.10.5 ('openoceans')",
   "language": "python",
   "name": "python3"
  },
  "language_info": {
   "name": "python",
   "version": "3.10.5"
  },
  "orig_nbformat": 4,
  "vscode": {
   "interpreter": {
    "hash": "86116b4d0cd0192920fa3f0c8f115a0dd281510109b0d1c587f5e9f57b1914c1"
   }
  }
 },
 "nbformat": 4,
 "nbformat_minor": 2
}
