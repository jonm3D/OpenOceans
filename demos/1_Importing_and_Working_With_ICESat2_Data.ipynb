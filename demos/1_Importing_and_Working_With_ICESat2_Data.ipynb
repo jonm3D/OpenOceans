{
 "cells": [
  {
   "attachments": {},
   "cell_type": "markdown",
   "metadata": {},
   "source": [
    "# ICESat-2 Data Import and Visualization Demo\n",
    "This notebook walks through how to use OpenOceans to read in ICESat-2 photon data and access various parameters/metadata. It also includes useful kml export and track data plotting capabilities.\n",
    "\n",
    "Last updated: Jan 6 2023"
   ]
  },
  {
   "cell_type": "code",
   "execution_count": 1,
   "metadata": {},
   "outputs": [],
   "source": [
    "# adding the open oceans folder to the import path\n",
    "import sys\n",
    "sys.path.append('..')\n",
    "\n",
    "# import the bounding box module from open oceans\n",
    "import openoceans as oo\n",
    "\n",
    "import pandas as pd\n",
    "import numpy as np\n",
    "import os"
   ]
  },
  {
   "attachments": {},
   "cell_type": "markdown",
   "metadata": {},
   "source": [
    "## Load in ICESat-2 data from an existing h5 file."
   ]
  },
  {
   "cell_type": "code",
   "execution_count": 2,
   "metadata": {},
   "outputs": [
    {
     "name": "stdout",
     "output_type": "stream",
     "text": [
      "\n",
      "TRACK DETAILS\n",
      "    D/M/Y: 17/08/2021\n",
      "    Reference Ground Track: 840\n",
      "    Cycle: 12\n",
      "    Region: 8\n",
      "    Orbit Direction: DESCENDING\n",
      "    Release: 005\n",
      "\n",
      "BEAM DETAILS\n",
      "    GT1R\n",
      "    STRONG BEAM\n",
      "    ATLAS SPOT 5 \n",
      "    \n",
      "ICESat-2 Profile: ATL03_20210817*_08401208_005\n",
      "Photons Returned: 118088\n",
      "\n"
     ]
    }
   ],
   "source": [
    "# filepath = \"path_to_your_h5_file\"\n",
    "\n",
    "filepath = '../sample_data/gbr_reef_ATL03_20210817155409_08401208_005_01.h5'\n",
    "\n",
    "# which of the six beam data to read in\n",
    "gt = 'gt1r' # or gt2r or gt3r or gt1l or gt2l or gt3l\n",
    "\n",
    "# read in ICESat-2 photon data using Profile class\n",
    "p = oo.Profile.from_h5(filepath, gt, verbose=False)\n",
    "\n",
    "# print basic data about the profile\n",
    "print(p)"
   ]
  },
  {
   "attachments": {},
   "cell_type": "markdown",
   "metadata": {},
   "source": [
    "You can also generate an easily programmatically modified and formatted filename using this metadata."
   ]
  },
  {
   "cell_type": "code",
   "execution_count": 3,
   "metadata": {},
   "outputs": [
    {
     "name": "stdout",
     "output_type": "stream",
     "text": [
      "2021-08-17_rgt0840_cyc12_reg08_rel005_beamGT1R\n"
     ]
    }
   ],
   "source": [
    "print(p.get_formatted_filename())"
   ]
  },
  {
   "attachments": {},
   "cell_type": "markdown",
   "metadata": {},
   "source": [
    "## Using Profiles"
   ]
  },
  {
   "attachments": {},
   "cell_type": "markdown",
   "metadata": {},
   "source": [
    "The actual photon data is stored within the Profile's 'data' property."
   ]
  },
  {
   "cell_type": "code",
   "execution_count": 4,
   "metadata": {},
   "outputs": [
    {
     "data": {
      "text/html": [
       "<div>\n",
       "<style scoped>\n",
       "    .dataframe tbody tr th:only-of-type {\n",
       "        vertical-align: middle;\n",
       "    }\n",
       "\n",
       "    .dataframe tbody tr th {\n",
       "        vertical-align: top;\n",
       "    }\n",
       "\n",
       "    .dataframe thead th {\n",
       "        text-align: right;\n",
       "    }\n",
       "</style>\n",
       "<table border=\"1\" class=\"dataframe\">\n",
       "  <thead>\n",
       "    <tr style=\"text-align: right;\">\n",
       "      <th></th>\n",
       "      <th>is_land</th>\n",
       "      <th>signal</th>\n",
       "      <th>classification</th>\n",
       "      <th>lon</th>\n",
       "      <th>lat</th>\n",
       "      <th>time</th>\n",
       "      <th>rgt</th>\n",
       "      <th>cycle</th>\n",
       "      <th>region</th>\n",
       "      <th>track</th>\n",
       "      <th>...</th>\n",
       "      <th>delta_time</th>\n",
       "      <th>pair</th>\n",
       "      <th>geometry</th>\n",
       "      <th>ref_azimuth</th>\n",
       "      <th>ref_elev</th>\n",
       "      <th>dist_ph_along</th>\n",
       "      <th>surf_type_land</th>\n",
       "      <th>surf_type_ocean</th>\n",
       "      <th>surf_type_inland_water</th>\n",
       "      <th>geoid_z</th>\n",
       "    </tr>\n",
       "  </thead>\n",
       "  <tbody>\n",
       "    <tr>\n",
       "      <th>0</th>\n",
       "      <td>0</td>\n",
       "      <td>0</td>\n",
       "      <td>0</td>\n",
       "      <td>149.531334</td>\n",
       "      <td>-19.421182</td>\n",
       "      <td>2021-08-17 15:59:12.712058</td>\n",
       "      <td>840</td>\n",
       "      <td>12</td>\n",
       "      <td>8</td>\n",
       "      <td>1</td>\n",
       "      <td>...</td>\n",
       "      <td>1.144512e+08</td>\n",
       "      <td>1</td>\n",
       "      <td>POINT (149.53133 -19.42118)</td>\n",
       "      <td>-1.830126</td>\n",
       "      <td>1.561746</td>\n",
       "      <td>2.222997e+07</td>\n",
       "      <td>0</td>\n",
       "      <td>1</td>\n",
       "      <td>0</td>\n",
       "      <td>58.056393</td>\n",
       "    </tr>\n",
       "    <tr>\n",
       "      <th>1</th>\n",
       "      <td>0</td>\n",
       "      <td>0</td>\n",
       "      <td>0</td>\n",
       "      <td>149.531332</td>\n",
       "      <td>-19.421194</td>\n",
       "      <td>2021-08-17 15:59:12.712258</td>\n",
       "      <td>840</td>\n",
       "      <td>12</td>\n",
       "      <td>8</td>\n",
       "      <td>1</td>\n",
       "      <td>...</td>\n",
       "      <td>1.144512e+08</td>\n",
       "      <td>1</td>\n",
       "      <td>POINT (149.53133 -19.42119)</td>\n",
       "      <td>-1.830126</td>\n",
       "      <td>1.561746</td>\n",
       "      <td>2.222997e+07</td>\n",
       "      <td>0</td>\n",
       "      <td>1</td>\n",
       "      <td>0</td>\n",
       "      <td>58.056393</td>\n",
       "    </tr>\n",
       "    <tr>\n",
       "      <th>2</th>\n",
       "      <td>0</td>\n",
       "      <td>0</td>\n",
       "      <td>0</td>\n",
       "      <td>149.531332</td>\n",
       "      <td>-19.421201</td>\n",
       "      <td>2021-08-17 15:59:12.712358</td>\n",
       "      <td>840</td>\n",
       "      <td>12</td>\n",
       "      <td>8</td>\n",
       "      <td>1</td>\n",
       "      <td>...</td>\n",
       "      <td>1.144512e+08</td>\n",
       "      <td>1</td>\n",
       "      <td>POINT (149.53133 -19.42120)</td>\n",
       "      <td>-1.830126</td>\n",
       "      <td>1.561746</td>\n",
       "      <td>2.222997e+07</td>\n",
       "      <td>0</td>\n",
       "      <td>1</td>\n",
       "      <td>0</td>\n",
       "      <td>58.056393</td>\n",
       "    </tr>\n",
       "    <tr>\n",
       "      <th>3</th>\n",
       "      <td>0</td>\n",
       "      <td>0</td>\n",
       "      <td>0</td>\n",
       "      <td>149.531331</td>\n",
       "      <td>-19.421207</td>\n",
       "      <td>2021-08-17 15:59:12.712458</td>\n",
       "      <td>840</td>\n",
       "      <td>12</td>\n",
       "      <td>8</td>\n",
       "      <td>1</td>\n",
       "      <td>...</td>\n",
       "      <td>1.144512e+08</td>\n",
       "      <td>1</td>\n",
       "      <td>POINT (149.53133 -19.42121)</td>\n",
       "      <td>-1.830126</td>\n",
       "      <td>1.561746</td>\n",
       "      <td>2.222997e+07</td>\n",
       "      <td>0</td>\n",
       "      <td>1</td>\n",
       "      <td>0</td>\n",
       "      <td>58.056393</td>\n",
       "    </tr>\n",
       "    <tr>\n",
       "      <th>4</th>\n",
       "      <td>0</td>\n",
       "      <td>0</td>\n",
       "      <td>0</td>\n",
       "      <td>149.531328</td>\n",
       "      <td>-19.421233</td>\n",
       "      <td>2021-08-17 15:59:12.712858</td>\n",
       "      <td>840</td>\n",
       "      <td>12</td>\n",
       "      <td>8</td>\n",
       "      <td>1</td>\n",
       "      <td>...</td>\n",
       "      <td>1.144512e+08</td>\n",
       "      <td>1</td>\n",
       "      <td>POINT (149.53133 -19.42123)</td>\n",
       "      <td>-1.830126</td>\n",
       "      <td>1.561746</td>\n",
       "      <td>2.222998e+07</td>\n",
       "      <td>0</td>\n",
       "      <td>1</td>\n",
       "      <td>0</td>\n",
       "      <td>58.056393</td>\n",
       "    </tr>\n",
       "  </tbody>\n",
       "</table>\n",
       "<p>5 rows × 26 columns</p>\n",
       "</div>"
      ],
      "text/plain": [
       "   is_land  signal  classification         lon        lat  \\\n",
       "0        0       0               0  149.531334 -19.421182   \n",
       "1        0       0               0  149.531332 -19.421194   \n",
       "2        0       0               0  149.531332 -19.421201   \n",
       "3        0       0               0  149.531331 -19.421207   \n",
       "4        0       0               0  149.531328 -19.421233   \n",
       "\n",
       "                        time  rgt  cycle  region  track  ...    delta_time  \\\n",
       "0 2021-08-17 15:59:12.712058  840     12       8      1  ...  1.144512e+08   \n",
       "1 2021-08-17 15:59:12.712258  840     12       8      1  ...  1.144512e+08   \n",
       "2 2021-08-17 15:59:12.712358  840     12       8      1  ...  1.144512e+08   \n",
       "3 2021-08-17 15:59:12.712458  840     12       8      1  ...  1.144512e+08   \n",
       "4 2021-08-17 15:59:12.712858  840     12       8      1  ...  1.144512e+08   \n",
       "\n",
       "   pair                     geometry  ref_azimuth  ref_elev  dist_ph_along  \\\n",
       "0     1  POINT (149.53133 -19.42118)    -1.830126  1.561746   2.222997e+07   \n",
       "1     1  POINT (149.53133 -19.42119)    -1.830126  1.561746   2.222997e+07   \n",
       "2     1  POINT (149.53133 -19.42120)    -1.830126  1.561746   2.222997e+07   \n",
       "3     1  POINT (149.53133 -19.42121)    -1.830126  1.561746   2.222997e+07   \n",
       "4     1  POINT (149.53133 -19.42123)    -1.830126  1.561746   2.222998e+07   \n",
       "\n",
       "   surf_type_land  surf_type_ocean surf_type_inland_water    geoid_z  \n",
       "0               0                1                      0  58.056393  \n",
       "1               0                1                      0  58.056393  \n",
       "2               0                1                      0  58.056393  \n",
       "3               0                1                      0  58.056393  \n",
       "4               0                1                      0  58.056393  \n",
       "\n",
       "[5 rows x 26 columns]"
      ]
     },
     "execution_count": 4,
     "metadata": {},
     "output_type": "execute_result"
    }
   ],
   "source": [
    "p.data.head()"
   ]
  },
  {
   "cell_type": "markdown",
   "metadata": {},
   "source": [
    "Track metadata can be accessed programmatically through the Profile's 'info' property, or printed."
   ]
  },
  {
   "cell_type": "code",
   "execution_count": 5,
   "metadata": {},
   "outputs": [
    {
     "name": "stdout",
     "output_type": "stream",
     "text": [
      "{'date': datetime.date(2021, 8, 17), 'rgt': 840, 'gtxx': 'gt1r', 'cycle': 12, 'region': 8, 'orbit_dir': 'DESCENDING', 'release': '005', 'beam_strength': 'strong', 'atlas_spot': 5, 'track_pair': 1}\n"
     ]
    }
   ],
   "source": [
    "print(p.info)\n",
    "\n",
    "# info is a dictionary, get specific parameters using keys as follows\n",
    "\n",
    "# print(p.info['date'])"
   ]
  },
  {
   "attachments": {},
   "cell_type": "markdown",
   "metadata": {},
   "source": [
    "## Clipping Shorelines\n",
    "It can frequently be useful to trim away land surface returns when conducting bathymetric analyses. Each photon is assigned an `is_land` flag of 0 or 1 (otherwise -1) by comparing against the Natural Earth 10 land polygons in the shorelines directory."
   ]
  },
  {
   "cell_type": "code",
   "execution_count": 9,
   "metadata": {},
   "outputs": [
    {
     "name": "stdout",
     "output_type": "stream",
     "text": [
      "0    118088\n",
      "Name: is_land, dtype: int64\n"
     ]
    }
   ],
   "source": [
    "# how many of each flag?\n",
    "# recall:\n",
    "# -1 : unnclassified (couldnt access shoreline data)\n",
    "# 0: water\n",
    "# 1: land\n",
    "\n",
    "print(p.data.is_land.value_counts())\n",
    "\n",
    "# subset dataframe accordingly\n",
    "# ocean_data_only = p.data.iloc[np.where( p.data.is_land <= 0 )[0], :]"
   ]
  },
  {
   "attachments": {},
   "cell_type": "markdown",
   "metadata": {},
   "source": [
    "Since the photon data has been massaged such that it's stored as a Pandas DataFrame, we can use exporting functions accordingly to save the data for additional analysis."
   ]
  },
  {
   "cell_type": "code",
   "execution_count": 12,
   "metadata": {},
   "outputs": [
    {
     "name": "stdout",
     "output_type": "stream",
     "text": [
      "Successfully saved 2021-08-17_rgt0840_cyc12_reg08_rel005_beamGT1R.csv to demo data directory.\n"
     ]
    }
   ],
   "source": [
    "# Use programmatic way to get formatted filename for this specific ICESat-2 profile\n",
    "csv_filename = p.get_formatted_filename() + '.csv'\n",
    "csv_filepath = os.path.join('demo_data', csv_filename)\n",
    "\n",
    "# Export photon data using DataFrame methods\n",
    "\n",
    "# p.data.to_csv(csv_filepath)\n",
    "# print('Successfully saved ' + csv_filename + ' to demo data directory.')"
   ]
  },
  {
   "attachments": {},
   "cell_type": "markdown",
   "metadata": {},
   "source": [
    "## Exporting ICESat-2 Data to KML"
   ]
  },
  {
   "attachments": {},
   "cell_type": "markdown",
   "metadata": {},
   "source": [
    "You can also export the track profile as a kml to view in Google Earth. This function only outputs the lon/lat of the track (no elevation data). To reduce memory load, data are subsampled at a spacing which can be specified by the user. \n",
    "\n",
    "By default, OpenOceans uses a 1km spacing between data points."
   ]
  },
  {
   "cell_type": "code",
   "execution_count": null,
   "metadata": {},
   "outputs": [],
   "source": [
    "# specifies filename as shown in previous cell, placing in data subdirectory\n",
    "filename = os.path.join('data', p.get_formatted_filename()+'.kml')\n",
    "\n",
    "# exports data with a point every 1000 meters\n",
    "p.to_kml(filename=filename, meters=1000, verbose=False)\n",
    "\n",
    "# p.to_kml() # places the kml file in the current working directory"
   ]
  },
  {
   "attachments": {},
   "cell_type": "markdown",
   "metadata": {},
   "source": [
    "## Spatial Subsetting\n",
    "\n",
    "It's straightforward to spatially subset this photon data for your predefined area of interest, either at import or prgrammatically. (Note that the full H5 file/data must still be read into memory before spatial subsetting is applied.)\n",
    "\n",
    "See demo 2 for using GeoAOI's to define your area of interest."
   ]
  }
 ],
 "metadata": {
  "kernelspec": {
   "display_name": "Python 3.10.5 ('openoceans')",
   "language": "python",
   "name": "python3"
  },
  "language_info": {
   "codemirror_mode": {
    "name": "ipython",
    "version": 3
   },
   "file_extension": ".py",
   "mimetype": "text/x-python",
   "name": "python",
   "nbconvert_exporter": "python",
   "pygments_lexer": "ipython3",
   "version": "3.10.6"
  },
  "orig_nbformat": 4,
  "vscode": {
   "interpreter": {
    "hash": "86116b4d0cd0192920fa3f0c8f115a0dd281510109b0d1c587f5e9f57b1914c1"
   }
  }
 },
 "nbformat": 4,
 "nbformat_minor": 2
}
