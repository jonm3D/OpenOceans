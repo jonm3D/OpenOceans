{
 "cells": [
  {
   "cell_type": "markdown",
   "metadata": {},
   "source": [
    "# ICESat-2 Data Import and Visualization Demo\n"
   ]
  },
  {
   "cell_type": "code",
   "execution_count": 1,
   "metadata": {},
   "outputs": [],
   "source": [
    "# adding the open oceans folder to the import path\n",
    "import sys\n",
    "sys.path.append('..')\n",
    "\n",
    "# import the bounding box module from open oceans\n",
    "import openoceans as oo\n",
    "\n",
    "import pandas as pd\n",
    "import numpy as np"
   ]
  },
  {
   "cell_type": "markdown",
   "metadata": {},
   "source": [
    "Load in ICESat-2 data from an existing h5 file."
   ]
  },
  {
   "cell_type": "code",
   "execution_count": 2,
   "metadata": {},
   "outputs": [
    {
     "name": "stderr",
     "output_type": "stream",
     "text": [
      "100% (7 of 7) |##########################| Elapsed Time: 0:00:00 Time:  0:00:00\n"
     ]
    },
    {
     "name": "stdout",
     "output_type": "stream",
     "text": [
      "\n",
      "TRACK DETAILS\n",
      "    D/M/Y: 17/08/2021\n",
      "    Reference Ground Track: 840\n",
      "    Cycle: 12\n",
      "    Release: 005                                                                             \n",
      "\n",
      "BEAM DETAILS\n",
      "    GT1R\n",
      "    STRONG BEAM\n",
      "    ATLAS SPOT 5 \n",
      "    \n",
      "ICESat-2 Profile: ATL03_20210817*_084012*_005                                                                             \n",
      "Photons Returned: 118088\n",
      "\n"
     ]
    }
   ],
   "source": [
    "filepath = \"data/ATL03_20210817155409_08401208_005_01.h5\"\n",
    "gt='gt1r'\n",
    "p = oo.Profile.from_h5(filepath, gt)\n",
    "print(p)\n"
   ]
  },
  {
   "cell_type": "markdown",
   "metadata": {},
   "source": [
    "Photon data can be inspected alongside the corresponding satellite imagery. By default this plot is opened as HTML is a new default browser tab. To show output within the cell, run the output_notebook() command at the beginning of your code."
   ]
  },
  {
   "cell_type": "code",
   "execution_count": 3,
   "metadata": {},
   "outputs": [],
   "source": [
    "# from bokeh.io import output_notebook\n",
    "# output_notebook()"
   ]
  },
  {
   "cell_type": "code",
   "execution_count": 4,
   "metadata": {},
   "outputs": [],
   "source": [
    "# p.explore()\n",
    "p.explore()"
   ]
  },
  {
   "cell_type": "markdown",
   "metadata": {},
   "source": [
    "The photon data is stored within the Profile's 'data' property."
   ]
  },
  {
   "cell_type": "code",
   "execution_count": 5,
   "metadata": {},
   "outputs": [
    {
     "data": {
      "text/html": [
       "<div>\n",
       "<style scoped>\n",
       "    .dataframe tbody tr th:only-of-type {\n",
       "        vertical-align: middle;\n",
       "    }\n",
       "\n",
       "    .dataframe tbody tr th {\n",
       "        vertical-align: top;\n",
       "    }\n",
       "\n",
       "    .dataframe thead th {\n",
       "        text-align: right;\n",
       "    }\n",
       "</style>\n",
       "<table border=\"1\" class=\"dataframe\">\n",
       "  <thead>\n",
       "    <tr style=\"text-align: right;\">\n",
       "      <th></th>\n",
       "      <th>classification</th>\n",
       "      <th>lon</th>\n",
       "      <th>lat</th>\n",
       "      <th>rgt</th>\n",
       "      <th>cycle</th>\n",
       "      <th>track</th>\n",
       "      <th>segment_id</th>\n",
       "      <th>segment_dist</th>\n",
       "      <th>sc_orient</th>\n",
       "      <th>atl03_cnf</th>\n",
       "      <th>height</th>\n",
       "      <th>quality_ph</th>\n",
       "      <th>delta_time</th>\n",
       "      <th>pair</th>\n",
       "      <th>geometry</th>\n",
       "      <th>ref_azimuth</th>\n",
       "      <th>ref_elev</th>\n",
       "    </tr>\n",
       "    <tr>\n",
       "      <th>time</th>\n",
       "      <th></th>\n",
       "      <th></th>\n",
       "      <th></th>\n",
       "      <th></th>\n",
       "      <th></th>\n",
       "      <th></th>\n",
       "      <th></th>\n",
       "      <th></th>\n",
       "      <th></th>\n",
       "      <th></th>\n",
       "      <th></th>\n",
       "      <th></th>\n",
       "      <th></th>\n",
       "      <th></th>\n",
       "      <th></th>\n",
       "      <th></th>\n",
       "      <th></th>\n",
       "    </tr>\n",
       "  </thead>\n",
       "  <tbody>\n",
       "    <tr>\n",
       "      <th>2021-08-17 15:59:12.712058</th>\n",
       "      <td>0</td>\n",
       "      <td>149.531334</td>\n",
       "      <td>-19.421182</td>\n",
       "      <td>840</td>\n",
       "      <td>12</td>\n",
       "      <td>1</td>\n",
       "      <td>1109513</td>\n",
       "      <td>2.222997e+07</td>\n",
       "      <td>1</td>\n",
       "      <td>4</td>\n",
       "      <td>58.677856</td>\n",
       "      <td>0</td>\n",
       "      <td>1.144512e+08</td>\n",
       "      <td>1</td>\n",
       "      <td>POINT (149.53133 -19.42118)</td>\n",
       "      <td>-1.830126</td>\n",
       "      <td>1.561746</td>\n",
       "    </tr>\n",
       "    <tr>\n",
       "      <th>2021-08-17 15:59:12.712258</th>\n",
       "      <td>0</td>\n",
       "      <td>149.531332</td>\n",
       "      <td>-19.421194</td>\n",
       "      <td>840</td>\n",
       "      <td>12</td>\n",
       "      <td>1</td>\n",
       "      <td>1109513</td>\n",
       "      <td>2.222997e+07</td>\n",
       "      <td>1</td>\n",
       "      <td>4</td>\n",
       "      <td>58.746899</td>\n",
       "      <td>0</td>\n",
       "      <td>1.144512e+08</td>\n",
       "      <td>1</td>\n",
       "      <td>POINT (149.53133 -19.42119)</td>\n",
       "      <td>-1.830126</td>\n",
       "      <td>1.561746</td>\n",
       "    </tr>\n",
       "    <tr>\n",
       "      <th>2021-08-17 15:59:12.712358</th>\n",
       "      <td>0</td>\n",
       "      <td>149.531332</td>\n",
       "      <td>-19.421201</td>\n",
       "      <td>840</td>\n",
       "      <td>12</td>\n",
       "      <td>1</td>\n",
       "      <td>1109513</td>\n",
       "      <td>2.222997e+07</td>\n",
       "      <td>1</td>\n",
       "      <td>4</td>\n",
       "      <td>58.563644</td>\n",
       "      <td>0</td>\n",
       "      <td>1.144512e+08</td>\n",
       "      <td>1</td>\n",
       "      <td>POINT (149.53133 -19.42120)</td>\n",
       "      <td>-1.830126</td>\n",
       "      <td>1.561746</td>\n",
       "    </tr>\n",
       "    <tr>\n",
       "      <th>2021-08-17 15:59:12.712458</th>\n",
       "      <td>0</td>\n",
       "      <td>149.531331</td>\n",
       "      <td>-19.421207</td>\n",
       "      <td>840</td>\n",
       "      <td>12</td>\n",
       "      <td>1</td>\n",
       "      <td>1109513</td>\n",
       "      <td>2.222997e+07</td>\n",
       "      <td>1</td>\n",
       "      <td>4</td>\n",
       "      <td>58.695866</td>\n",
       "      <td>0</td>\n",
       "      <td>1.144512e+08</td>\n",
       "      <td>1</td>\n",
       "      <td>POINT (149.53133 -19.42121)</td>\n",
       "      <td>-1.830126</td>\n",
       "      <td>1.561746</td>\n",
       "    </tr>\n",
       "    <tr>\n",
       "      <th>2021-08-17 15:59:12.712858</th>\n",
       "      <td>0</td>\n",
       "      <td>149.531328</td>\n",
       "      <td>-19.421233</td>\n",
       "      <td>840</td>\n",
       "      <td>12</td>\n",
       "      <td>1</td>\n",
       "      <td>1109513</td>\n",
       "      <td>2.222997e+07</td>\n",
       "      <td>1</td>\n",
       "      <td>4</td>\n",
       "      <td>58.999352</td>\n",
       "      <td>0</td>\n",
       "      <td>1.144512e+08</td>\n",
       "      <td>1</td>\n",
       "      <td>POINT (149.53133 -19.42123)</td>\n",
       "      <td>-1.830126</td>\n",
       "      <td>1.561746</td>\n",
       "    </tr>\n",
       "  </tbody>\n",
       "</table>\n",
       "</div>"
      ],
      "text/plain": [
       "                            classification         lon        lat  rgt  cycle  \\\n",
       "time                                                                            \n",
       "2021-08-17 15:59:12.712058               0  149.531334 -19.421182  840     12   \n",
       "2021-08-17 15:59:12.712258               0  149.531332 -19.421194  840     12   \n",
       "2021-08-17 15:59:12.712358               0  149.531332 -19.421201  840     12   \n",
       "2021-08-17 15:59:12.712458               0  149.531331 -19.421207  840     12   \n",
       "2021-08-17 15:59:12.712858               0  149.531328 -19.421233  840     12   \n",
       "\n",
       "                            track  segment_id  segment_dist  sc_orient  \\\n",
       "time                                                                     \n",
       "2021-08-17 15:59:12.712058      1     1109513  2.222997e+07          1   \n",
       "2021-08-17 15:59:12.712258      1     1109513  2.222997e+07          1   \n",
       "2021-08-17 15:59:12.712358      1     1109513  2.222997e+07          1   \n",
       "2021-08-17 15:59:12.712458      1     1109513  2.222997e+07          1   \n",
       "2021-08-17 15:59:12.712858      1     1109513  2.222997e+07          1   \n",
       "\n",
       "                            atl03_cnf     height  quality_ph    delta_time  \\\n",
       "time                                                                         \n",
       "2021-08-17 15:59:12.712058          4  58.677856           0  1.144512e+08   \n",
       "2021-08-17 15:59:12.712258          4  58.746899           0  1.144512e+08   \n",
       "2021-08-17 15:59:12.712358          4  58.563644           0  1.144512e+08   \n",
       "2021-08-17 15:59:12.712458          4  58.695866           0  1.144512e+08   \n",
       "2021-08-17 15:59:12.712858          4  58.999352           0  1.144512e+08   \n",
       "\n",
       "                            pair                     geometry  ref_azimuth  \\\n",
       "time                                                                         \n",
       "2021-08-17 15:59:12.712058     1  POINT (149.53133 -19.42118)    -1.830126   \n",
       "2021-08-17 15:59:12.712258     1  POINT (149.53133 -19.42119)    -1.830126   \n",
       "2021-08-17 15:59:12.712358     1  POINT (149.53133 -19.42120)    -1.830126   \n",
       "2021-08-17 15:59:12.712458     1  POINT (149.53133 -19.42121)    -1.830126   \n",
       "2021-08-17 15:59:12.712858     1  POINT (149.53133 -19.42123)    -1.830126   \n",
       "\n",
       "                            ref_elev  \n",
       "time                                  \n",
       "2021-08-17 15:59:12.712058  1.561746  \n",
       "2021-08-17 15:59:12.712258  1.561746  \n",
       "2021-08-17 15:59:12.712358  1.561746  \n",
       "2021-08-17 15:59:12.712458  1.561746  \n",
       "2021-08-17 15:59:12.712858  1.561746  "
      ]
     },
     "execution_count": 5,
     "metadata": {},
     "output_type": "execute_result"
    }
   ],
   "source": [
    "p.data.head()"
   ]
  },
  {
   "cell_type": "markdown",
   "metadata": {},
   "source": [
    "Track metadata can be accessed programmatically through the Profile's 'info' property, or printed."
   ]
  },
  {
   "cell_type": "code",
   "execution_count": 6,
   "metadata": {},
   "outputs": [
    {
     "name": "stdout",
     "output_type": "stream",
     "text": [
      "{'date': datetime.date(2021, 8, 17), 'rgt': 840, 'gtxx': 'gt1r', 'cycle': 12, 'release': '005                                                                             ', 'beam_strength': 'strong', 'atlas_spot': 5, 'track_pair': 1}\n"
     ]
    }
   ],
   "source": [
    "print(p.info)"
   ]
  },
  {
   "cell_type": "code",
   "execution_count": 7,
   "metadata": {},
   "outputs": [
    {
     "name": "stdout",
     "output_type": "stream",
     "text": [
      "\n",
      "TRACK DETAILS\n",
      "    D/M/Y: 17/08/2021\n",
      "    Reference Ground Track: 840\n",
      "    Cycle: 12\n",
      "    Release: 005                                                                             \n",
      "\n",
      "BEAM DETAILS\n",
      "    GT1R\n",
      "    STRONG BEAM\n",
      "    ATLAS SPOT 5 \n",
      "    \n",
      "ICESat-2 Profile: ATL03_20210817*_084012*_005                                                                             \n",
      "Photons Returned: 118088\n",
      "\n"
     ]
    }
   ],
   "source": [
    "print(p)"
   ]
  }
 ],
 "metadata": {
  "kernelspec": {
   "display_name": "Python 3.10.5 ('openoceans')",
   "language": "python",
   "name": "python3"
  },
  "language_info": {
   "codemirror_mode": {
    "name": "ipython",
    "version": 3
   },
   "file_extension": ".py",
   "mimetype": "text/x-python",
   "name": "python",
   "nbconvert_exporter": "python",
   "pygments_lexer": "ipython3",
   "version": "3.10.5"
  },
  "orig_nbformat": 4,
  "vscode": {
   "interpreter": {
    "hash": "86116b4d0cd0192920fa3f0c8f115a0dd281510109b0d1c587f5e9f57b1914c1"
   }
  }
 },
 "nbformat": 4,
 "nbformat_minor": 2
}
