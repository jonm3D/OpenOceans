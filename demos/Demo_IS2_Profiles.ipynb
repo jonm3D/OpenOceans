{
 "cells": [
  {
   "cell_type": "markdown",
   "metadata": {},
   "source": [
    "# ICESat-2 Data Import and Visualization Demo\n"
   ]
  },
  {
   "cell_type": "code",
   "execution_count": null,
   "metadata": {},
   "outputs": [],
   "source": [
    "# adding the open oceans folder to the import path\n",
    "import sys\n",
    "sys.path.append('..')\n",
    "\n",
    "# import the bounding box module from open oceans\n",
    "import openoceans as oo\n",
    "\n",
    "import pandas as pd\n",
    "import numpy as np\n",
    "import os"
   ]
  },
  {
   "cell_type": "markdown",
   "metadata": {},
   "source": [
    "Load in ICESat-2 data from an existing h5 file."
   ]
  },
  {
   "cell_type": "code",
   "execution_count": null,
   "metadata": {},
   "outputs": [],
   "source": [
    "filepath = \"data/ATL03_20210817155409_08401208_005_01.h5\"\n",
    "gt='gt1r'\n",
    "p = oo.Profile.from_h5(filepath, gt)\n",
    "print(p)\n"
   ]
  },
  {
   "cell_type": "markdown",
   "metadata": {},
   "source": [
    "Photon data can be inspected alongside the corresponding satellite imagery. By default this plot is opened as HTML is a new default browser tab. To show output within the cell, run the output_notebook() command at the beginning of your code."
   ]
  },
  {
   "cell_type": "code",
   "execution_count": null,
   "metadata": {},
   "outputs": [],
   "source": [
    "# from bokeh.io import output_notebook\n",
    "# output_notebook()"
   ]
  },
  {
   "cell_type": "code",
   "execution_count": null,
   "metadata": {},
   "outputs": [],
   "source": [
    "# p.explore()"
   ]
  },
  {
   "cell_type": "markdown",
   "metadata": {},
   "source": [
    "The photon data is stored within the Profile's 'data' property."
   ]
  },
  {
   "cell_type": "code",
   "execution_count": null,
   "metadata": {},
   "outputs": [],
   "source": [
    "p.data.head()"
   ]
  },
  {
   "cell_type": "markdown",
   "metadata": {},
   "source": [
    "Track metadata can be accessed programmatically through the Profile's 'info' property, or printed."
   ]
  },
  {
   "cell_type": "code",
   "execution_count": null,
   "metadata": {},
   "outputs": [],
   "source": [
    "print(p.info.keys())\n",
    "\n",
    "print('\\nGetting track date...')\n",
    "print(p.info['date'])"
   ]
  },
  {
   "cell_type": "code",
   "execution_count": null,
   "metadata": {},
   "outputs": [],
   "source": [
    "print(p)"
   ]
  },
  {
   "cell_type": "markdown",
   "metadata": {},
   "source": [
    "You can also export the track profile as a kml to view in Google Earth. This function only outputs the lon/lat of the track (no elevation data). To reduce memory load, data are subsampled at a spacing which can be specified by the user. \n",
    "\n",
    "By default, OpenOceans creates a unique filename and and uses a 1km spacing between data points."
   ]
  },
  {
   "cell_type": "code",
   "execution_count": null,
   "metadata": {},
   "outputs": [],
   "source": [
    "# example of the unique filenames used by OpenOceans\n",
    "print(p.get_formatted_filename())"
   ]
  },
  {
   "cell_type": "code",
   "execution_count": null,
   "metadata": {},
   "outputs": [],
   "source": [
    "# specifies filename as shown in previous cell, placing in data subdirectory\n",
    "filename = os.path.join('data', p.get_formatted_filename()+'.kml')\n",
    "\n",
    "# exports data with a point every 1000 meters\n",
    "p.to_kml(filename=filename, meters=1000, verbose=False)\n",
    " \n",
    "# p.to_kml() # places the kml file in the current directory"
   ]
  }
 ],
 "metadata": {
  "kernelspec": {
   "display_name": "Python 3.10.5 ('openoceans')",
   "language": "python",
   "name": "python3"
  },
  "language_info": {
   "codemirror_mode": {
    "name": "ipython",
    "version": 3
   },
   "file_extension": ".py",
   "mimetype": "text/x-python",
   "name": "python",
   "nbconvert_exporter": "python",
   "pygments_lexer": "ipython3",
   "version": "3.10.5"
  },
  "orig_nbformat": 4,
  "vscode": {
   "interpreter": {
    "hash": "86116b4d0cd0192920fa3f0c8f115a0dd281510109b0d1c587f5e9f57b1914c1"
   }
  }
 },
 "nbformat": 4,
 "nbformat_minor": 2
}
